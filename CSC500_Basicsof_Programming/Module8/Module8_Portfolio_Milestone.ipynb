{
 "cells": [
  {
   "cell_type": "code",
   "execution_count": 22,
   "id": "21a1acb1-12da-41b9-a090-2e282cfe9b7e",
   "metadata": {},
   "outputs": [],
   "source": [
    "### Step 1\n",
    "### Build the ItemToPurchase class\n",
    "\n",
    "class ItemToPurchase :\n",
    "        item_name = \"\"\n",
    "        item_price = 0.0\n",
    "        item_quantity  = 0\n",
    "        item_description = \"\"\n",
    "        total_price = 0.0\n",
    "        # Default constructor function    \n",
    "        # Initializes item's name = \"none\", item's price = 0, item's quantity = 0\n",
    "        def __init__(self, item_name = \"none\",item_price = 0.0,item_quantity  = 0,item_description = ''):\n",
    "            self.item_name = item_name\n",
    "            self.item_price = item_price\n",
    "            self.item_quantity = item_quantity\n",
    "            self.item_description = item_description\n",
    "            self.total_price = self.item_price * self.item_quantity\n",
    "            #print ( 'construct ItemToPurchase :' ,  self.item_name , self.item_price , self.item_price , self.item_quantity ) \n",
    "        ## print_item_cost() Method`\n",
    "        def print_item_cost(self) :\n",
    "            self.total_price = self.item_price * self.item_quantity\n",
    "            print('{} {} @ ${} = ${:.2f}'.format(self.item_name,self.item_quantity,self.item_price,self.total_price))\n",
    "       "
   ]
  },
  {
   "cell_type": "code",
   "execution_count": 17,
   "id": "a5a8f152-fa07-4650-ba24-e453921139b5",
   "metadata": {},
   "outputs": [
    {
     "name": "stdout",
     "output_type": "stream",
     "text": [
      "   Item 1 \n"
     ]
    },
    {
     "name": "stdin",
     "output_type": "stream",
     "text": [
      "Enter the item name: Chocolate Chips\n",
      "Enter the item price: 3\n",
      "Enter the item quantity: 1\n"
     ]
    },
    {
     "name": "stdout",
     "output_type": "stream",
     "text": [
      "construct ItemToPurchase : Chocolate Chips 3.0 3.0 1\n",
      "   Item 2 \n"
     ]
    },
    {
     "name": "stdin",
     "output_type": "stream",
     "text": [
      "Enter the item name: Bottled Water\n",
      "Enter the item price: 1\n",
      "Enter the item quantity: 10\n"
     ]
    },
    {
     "name": "stdout",
     "output_type": "stream",
     "text": [
      "construct ItemToPurchase : Bottled Water 1.0 1.0 10\n"
     ]
    }
   ],
   "source": [
    "####  Step 2 prompt the user for two items and create two objects of the ItemToPurchase class\n",
    "total_price = 0.0\n",
    "print('   Item 1 ') \n",
    "item_name = input('Enter the item name:') \n",
    "item_price = float(input('Enter the item price:'))\n",
    "item_quantity = int(input('Enter the item quantity:'))\n",
    "p1 = ItemToPurchase(item_name,item_price,item_quantity)\n",
    "total_price += p1.total_price\n",
    "print('   Item 2 ') \n",
    "item_name = input('Enter the item name:') \n",
    "item_price = float(input('Enter the item price:'))\n",
    "item_quantity = int(input('Enter the item quantity:'))\n",
    "p2 = ItemToPurchase(item_name,item_price,item_quantity)\n",
    "total_price += p2.total_price"
   ]
  },
  {
   "cell_type": "code",
   "execution_count": 23,
   "id": "feed36d3-e25c-4906-b6c8-99733424e73c",
   "metadata": {},
   "outputs": [
    {
     "name": "stdout",
     "output_type": "stream",
     "text": [
      "       TOTAL COST \n",
      "Chocolate Chips 1 @ $3.0 = $3.00\n",
      "Bottled Water 10 @ $1.0 = $10.00\n",
      "      Total: $13.000000\n"
     ]
    }
   ],
   "source": [
    "####  Step 3  Add the costs of the two items together and output the total cost.\n",
    "print('       TOTAL COST ' )\n",
    "p1.print_item_cost()\n",
    "p2.print_item_cost()\n",
    "print('      Total: ${:2f}'.format(total_price))"
   ]
  },
  {
   "cell_type": "code",
   "execution_count": 28,
   "id": "93520c0a-fd14-411f-8a7b-5cfffa72be5e",
   "metadata": {},
   "outputs": [],
   "source": [
    "### Step 4 Build the ShoppingCart class with the following data attributes and related methods.\n",
    "### Parameterized constructor, which takes the customer name and date as parameters\n",
    "class ShoppingCart :\n",
    "    customer_name = \"\"\n",
    "    current_date = \"\"\n",
    "    cart_items = []\n",
    "    def __init__(self,customer_name=\"none\",current_date=\"January 1, 2020\",cart_items=[]):\n",
    "        self.customer_name = customer_name\n",
    "        self.current_date = current_date\n",
    "        self.cart_items = []\n",
    "\n",
    "    def add_item(self,item_purchase) :\n",
    "        self.cart_items.append(item_purchase)\n",
    "        print('Item : ',item_purchase.item_name,' Sucessfully got added to cart..')\n",
    "        \n",
    "    def remove_item(self,Itemname) :\n",
    "        itemFound = False \n",
    "        for i,obj in enumerate(self.cart_items) :\n",
    "            if obj.item_name == Itemname :\n",
    "                del self.cart_items[i]\n",
    "                itemFound = True\n",
    "                print('Item Sucessfully Removed.')\n",
    "                break\n",
    "        if  itemFound == False :\n",
    "            print('Item not found in cart. Nothing removed.')\n",
    "            \n",
    "    def modify_item(self,item_modify) :\n",
    "        itemFound = False\n",
    "        for i,obj in enumerate(self.cart_items) :\n",
    "            if obj.item_name.upper() == item_modify.item_name.upper() :\n",
    "                itemFound = True\n",
    "                ##if item_modify.item_price != 0 :\n",
    "                ##    obj.item_price = item_modify.item_price\n",
    "                if item_modify.item_quantity != 0 :\n",
    "                    obj.item_quantity = item_modify.item_quantity\n",
    "                ##if item_modify.item_description != '' : \n",
    "                ##    obj.item_description =  item_modify.item_description\n",
    "                self.cart_items[i] = obj\n",
    "                print('Item got Modified sucessfully.')\n",
    "                break           \n",
    "        if  itemFound == False :\n",
    "            print('Item not found in cart. Nothing modified.')\n",
    "            \n",
    "    def get_num_items_in_cart(self):\n",
    "        num_of_items = 0\n",
    "        for obj in self.cart_items :\n",
    "            num_of_items += obj.item_quantity\n",
    "        return num_of_items\n",
    "        \n",
    "    def get_cost_of_cart(self):\n",
    "        total_cost = 0 \n",
    "        for obj in self.cart_items :\n",
    "            total_cost += obj.item_price * obj.item_quantity\n",
    "        return total_cost\n",
    "        \n",
    "    def print_total(self):\n",
    "        print('{}\\'s Shopping Cart - {}'.format(self.customer_name,self.current_date))\n",
    "        print('     OUTPUT SHOPPING CART ' ) \n",
    "        print('Number of Items: ', self.get_num_items_in_cart())\n",
    "        for obj in self.cart_items :\n",
    "            obj.print_item_cost()\n",
    "        print('         Total : ${} '.format(self.get_cost_of_cart()))\n",
    "\n",
    "    def print_descriptions(self):\n",
    "        print('{}\\'s Shopping Cart - {}'.format(self.customer_name,self.current_date))\n",
    "        print('     OUTPUT ITEMS DESCRIPTIONS ' )\n",
    "        for obj in self.cart_items :\n",
    "            print(obj.item_name,\":\",obj.item_description)          "
   ]
  },
  {
   "cell_type": "code",
   "execution_count": 29,
   "id": "3e270d0d-c88b-4727-8574-ce56bb690216",
   "metadata": {},
   "outputs": [
    {
     "name": "stdin",
     "output_type": "stream",
     "text": [
      "Enter your customer name : Eday\n",
      "Enter today's date : 08/02/2024\n"
     ]
    },
    {
     "name": "stdout",
     "output_type": "stream",
     "text": [
      " Customer name :  Eday\n",
      " Today's date   :  08/02/2024\n",
      "**********************************: \n",
      "       MENU                       : \n",
      "**********************************: \n",
      "  a - Add item to cart            : \n",
      "  r - Remove item from cart       : \n",
      "  c - Change item quantity        : \n",
      "  i - Output items  descriptions  : \n",
      "  o - Output shopping cart        : \n",
      "  q - Quit                        : \n",
      "             : \n"
     ]
    },
    {
     "name": "stdin",
     "output_type": "stream",
     "text": [
      "Choose an option: \n",
      " a\n"
     ]
    },
    {
     "name": "stdout",
     "output_type": "stream",
     "text": [
      "    ADD ITEM TO CART   \n"
     ]
    },
    {
     "name": "stdin",
     "output_type": "stream",
     "text": [
      "Enter the item name: Nike Romaleos\n",
      "Enter the item description: Volt color, Weightlifting shoes\n",
      "Enter the item price: 189\n",
      "Enter the item quantity: 2\n"
     ]
    },
    {
     "name": "stdout",
     "output_type": "stream",
     "text": [
      "Item :  Nike Romaleos  Sucessfully got added to cart..\n"
     ]
    },
    {
     "name": "stdin",
     "output_type": "stream",
     "text": [
      "Choose an option: \n",
      " a\n"
     ]
    },
    {
     "name": "stdout",
     "output_type": "stream",
     "text": [
      "    ADD ITEM TO CART   \n"
     ]
    },
    {
     "name": "stdin",
     "output_type": "stream",
     "text": [
      "Enter the item name: Chocolate Chips\n",
      "Enter the item description: Semi-sweet\n",
      "Enter the item price: 3\n",
      "Enter the item quantity: 5\n"
     ]
    },
    {
     "name": "stdout",
     "output_type": "stream",
     "text": [
      "Item :  Chocolate Chips  Sucessfully got added to cart..\n"
     ]
    },
    {
     "name": "stdin",
     "output_type": "stream",
     "text": [
      "Choose an option: \n",
      " o\n"
     ]
    },
    {
     "name": "stdout",
     "output_type": "stream",
     "text": [
      "Eday's Shopping Cart - 08/02/2024\n",
      "     OUTPUT SHOPPING CART \n",
      "Number of Items:  7\n",
      "Nike Romaleos 2 @ $189.0 = $378.00\n",
      "Chocolate Chips 5 @ $3.0 = $15.00\n",
      "         Total : $393.0 \n"
     ]
    },
    {
     "name": "stdin",
     "output_type": "stream",
     "text": [
      "Choose an option: \n",
      " i\n"
     ]
    },
    {
     "name": "stdout",
     "output_type": "stream",
     "text": [
      "Eday's Shopping Cart - 08/02/2024\n",
      "     OUTPUT ITEMS DESCRIPTIONS \n",
      "Nike Romaleos : Volt color, Weightlifting shoes\n",
      "Chocolate Chips : Semi-sweet\n"
     ]
    },
    {
     "name": "stdin",
     "output_type": "stream",
     "text": [
      "Choose an option: \n",
      " r\n"
     ]
    },
    {
     "name": "stdout",
     "output_type": "stream",
     "text": [
      "    REMOVE ITEM FROM CART   \n"
     ]
    },
    {
     "name": "stdin",
     "output_type": "stream",
     "text": [
      "Enter the name of item to remove: Chocolate Chips\n"
     ]
    },
    {
     "name": "stdout",
     "output_type": "stream",
     "text": [
      "Item Sucessfully Removed.\n"
     ]
    },
    {
     "name": "stdin",
     "output_type": "stream",
     "text": [
      "Choose an option: \n",
      " o\n"
     ]
    },
    {
     "name": "stdout",
     "output_type": "stream",
     "text": [
      "Eday's Shopping Cart - 08/02/2024\n",
      "     OUTPUT SHOPPING CART \n",
      "Number of Items:  2\n",
      "Nike Romaleos 2 @ $189.0 = $378.00\n",
      "         Total : $378.0 \n"
     ]
    },
    {
     "name": "stdin",
     "output_type": "stream",
     "text": [
      "Choose an option: \n",
      " c\n"
     ]
    },
    {
     "name": "stdout",
     "output_type": "stream",
     "text": [
      "    CHANGE ITEM QUANTITY   \n"
     ]
    },
    {
     "name": "stdin",
     "output_type": "stream",
     "text": [
      "Enter the item name: Nike Romaleos\n",
      "Enter the modified quantity: 3\n"
     ]
    },
    {
     "name": "stdout",
     "output_type": "stream",
     "text": [
      "Item got Modified sucessfully.\n"
     ]
    },
    {
     "name": "stdin",
     "output_type": "stream",
     "text": [
      "Choose an option: \n",
      " o\n"
     ]
    },
    {
     "name": "stdout",
     "output_type": "stream",
     "text": [
      "Eday's Shopping Cart - 08/02/2024\n",
      "     OUTPUT SHOPPING CART \n",
      "Number of Items:  3\n",
      "Nike Romaleos 3 @ $189.0 = $567.00\n",
      "         Total : $567.0 \n"
     ]
    },
    {
     "name": "stdin",
     "output_type": "stream",
     "text": [
      "Choose an option: \n",
      " q\n"
     ]
    }
   ],
   "source": [
    "### Step 7 : main section of your code, implement the print_menu() function. print_menu() has a ShoppingCart parameter \n",
    "### and outputs a menu of options to manipulate the shopping cart.\n",
    "### Main function call \n",
    "customer_name = input('Enter your customer name :')\n",
    "current_Date = input('Enter today\\'s date :')\n",
    "print ( ' Customer name : ' , customer_name ) \n",
    "print ( ' Today\\'s date   : ' , current_Date ) \n",
    "sc1 = ShoppingCart(customer_name,current_Date)\n",
    "printmenu(sc1)"
   ]
  },
  {
   "cell_type": "code",
   "execution_count": 15,
   "id": "41605ddb-595e-40b5-8545-f272f35d98e0",
   "metadata": {},
   "outputs": [],
   "source": [
    "#### Step 5 \n",
    "### print_menu() has a ShoppingCart parameter and outputs a menu of options to manipulate the shopping cart\n",
    "def printmenu(Shopping_Cart) :\n",
    "    print('**********************************: ')\n",
    "    print('       MENU                       : ')\n",
    "    print('**********************************: ')\n",
    "    print('  a - Add item to cart            : ')\n",
    "    print('  r - Remove item from cart       : ')\n",
    "    print('  c - Change item quantity        : ') \n",
    "    print('  i - Output items  descriptions  : ')\n",
    "    print('  o - Output shopping cart        : ')\n",
    "    print('  q - Quit                        : ') \n",
    "    print ('             : ')\n",
    "    #cart_items = ShoppingCart.cart_items\n",
    "    sc = Shopping_Cart\n",
    "    Itemname = ''\n",
    "    menu_option = input('Choose an option: \\n')\n",
    "    while menu_option.upper() != 'Q' : \n",
    "        if menu_option.upper() == 'A':\n",
    "            print ( '    ADD ITEM TO CART   ')\n",
    "            item_to_purchase = ItemToPurchase()\n",
    "            item_to_purchase.item_name = input('Enter the item name:')\n",
    "            item_to_purchase.item_description = input('Enter the item description:')\n",
    "            item_to_purchase.item_price = float(input('Enter the item price:'))\n",
    "            item_to_purchase.item_quantity = int(input('Enter the item quantity:'))\n",
    "            #item_purchase = ItemToPurchase(item_name,item_price,item_quantity)\n",
    "            sc.add_item(item_to_purchase)\n",
    "        elif menu_option.upper() == 'R':\n",
    "            print ( '    REMOVE ITEM FROM CART   ')\n",
    "            Itemname = input('Enter the name of item to remove:') \n",
    "            sc.remove_item(Itemname)\n",
    "        elif menu_option.upper() == 'C':\n",
    "            print ( '    CHANGE ITEM QUANTITY   ')\n",
    "            item_to_modify = ItemToPurchase()\n",
    "            item_to_modify.item_name = input('Enter the item name:') \n",
    "            #item_to_modify.item_price = float(input('Enter the modified price:'))\n",
    "            item_to_modify.item_quantity = int(input('Enter the modified quantity:'))\n",
    "            sc.modify_item(item_to_modify)\n",
    "        elif menu_option.upper() == 'I':         \n",
    "            sc.print_descriptions()\n",
    "        elif menu_option.upper() == 'O' :\n",
    "            sc.print_total()\n",
    "        menu_option = input('Choose an option: \\n')"
   ]
  }
 ],
 "metadata": {
  "kernelspec": {
   "display_name": "Python 3 (ipykernel)",
   "language": "python",
   "name": "python3"
  },
  "language_info": {
   "codemirror_mode": {
    "name": "ipython",
    "version": 3
   },
   "file_extension": ".py",
   "mimetype": "text/x-python",
   "name": "python",
   "nbconvert_exporter": "python",
   "pygments_lexer": "ipython3",
   "version": "3.11.7"
  }
 },
 "nbformat": 4,
 "nbformat_minor": 5
}
