{
 "cells": [
  {
   "cell_type": "code",
   "execution_count": null,
   "id": "bd345800-3aec-4bc2-b2ee-bc5c7d2f6feb",
   "metadata": {},
   "outputs": [],
   "source": [
    "## Part 1:\n",
    "## Write a program that uses nested loops to collect data and calculate the average rainfall over a period of years. \n",
    "## The program should first ask for the number of years. The outer loop will iterate once for each year. \n",
    "## The inner loop will iterate twelve times, once for each month. \n",
    "## Each iteration of the inner loop will ask the user for the inches of rainfall for that month. \n",
    "## After all iterations, the program should display the number of months, the total inches of rainfall, and the average rainfall per month for the entire period."
   ]
  },
  {
   "cell_type": "code",
   "execution_count": 23,
   "id": "98b324f9-61ce-43b2-8f0a-bdeff46317ea",
   "metadata": {},
   "outputs": [
    {
     "name": "stdin",
     "output_type": "stream",
     "text": [
      "Enter number of years : 2\n",
      "Rainfall for the year 1 month Jan : 5\n",
      "Rainfall for the year 1 month Feb : 10\n",
      "Rainfall for the year 1 month Mar : 15\n",
      "Rainfall for the year 1 month Apr : 5\n",
      "Rainfall for the year 1 month May : 10\n",
      "Rainfall for the year 1 month Jun : 15\n",
      "Rainfall for the year 1 month Jul : 5\n",
      "Rainfall for the year 1 month Aug : 10\n",
      "Rainfall for the year 1 month Sep : 15\n",
      "Rainfall for the year 1 month Oct : 5\n",
      "Rainfall for the year 1 month Nov : 10\n",
      "Rainfall for the year 1 month Dec : 15\n",
      "Rainfall for the year 2 month Jan : 5\n",
      "Rainfall for the year 2 month Feb : 10\n",
      "Rainfall for the year 2 month Mar : 15\n",
      "Rainfall for the year 2 month Apr : 5\n",
      "Rainfall for the year 2 month May : 10\n",
      "Rainfall for the year 2 month Jun : 15\n",
      "Rainfall for the year 2 month Jul : 5\n",
      "Rainfall for the year 2 month Aug : 10\n",
      "Rainfall for the year 2 month Sep : 15\n",
      "Rainfall for the year 2 month Oct : 5\n",
      "Rainfall for the year 2 month Nov : 10\n",
      "Rainfall for the year 2 month Dec : 15\n"
     ]
    },
    {
     "name": "stdout",
     "output_type": "stream",
     "text": [
      "#########################################################\n",
      "Total number of months            : 24\n",
      "Total inches of rainfall          : 240.0\n",
      "Average rainfall per month        : 10.00 Inches\n",
      "#########################################################\n"
     ]
    }
   ],
   "source": [
    "number_of_years = int(input('Enter number of years :'))\n",
    "months = ['Jan','Feb','Mar','Apr','May','Jun','Jul','Aug','Sep','Oct','Nov','Dec']\n",
    "rainfall_months = [] \n",
    "rainfall_years = []\n",
    "total_rainfall = 0 \n",
    "Avg_rainfall = 0 \n",
    "## outer loop will control the no of year from the User\n",
    "for i in range(0,number_of_years) :\n",
    "    ## inner loop will request user to enter rainfall amount for every month\n",
    "    for j in range(0,len(months)) : \n",
    "        # Monthly rainfall measurement is added to rainfall_months list \n",
    "        rainfall_months.append(float(input('Rainfall for the year {} month {} :'.format(i+1,months[j]))))\n",
    "        # rain_fall value for each month get added to total_rainfall variable.\n",
    "        total_rainfall += rainfall_months[j]\n",
    "    # Yearly rainfall measurement is added to rainfall_years list \n",
    "    rainfall_years.append(rainfall_months)\n",
    "Avg_rainfall = total_rainfall / ( len(rainfall_years)*len(months) )\n",
    "print ( '#########################################################')\n",
    "print ( 'Total number of months            :', number_of_years*len(months) )\n",
    "print ( 'Total inches of rainfall          :', total_rainfall ) \n",
    "print ( 'Average rainfall per month        : {:.2f} Inches'.format(Avg_rainfall))\n",
    "print ( '#########################################################')"
   ]
  },
  {
   "cell_type": "code",
   "execution_count": 30,
   "id": "b7e41faa-4c69-4f03-9066-2362954b69b6",
   "metadata": {},
   "outputs": [],
   "source": [
    "#The CSU Global Bookstore has a book club that awards points to its students based on the number of books purchased each month. The points are awarded as follows:\n",
    "# If a customer purchases 0 books, they earn 0 points.\n",
    "#If a customer purchases 2 books, they earn 5 points.\n",
    "#If a customer purchases 4 books, they earn 15 points.\n",
    "#If a customer purchases 6 books, they earn 30 points.\n",
    "#If a customer purchases 8 or more books, they earn 60 points.\n",
    "#Write a program that asks the user to enter the number of books that they have purchased this month and then display the number of points awarded.\n"
   ]
  },
  {
   "cell_type": "code",
   "execution_count": 34,
   "id": "54b168f0-87b7-4541-b6f6-2d16a750ebb6",
   "metadata": {},
   "outputs": [
    {
     "name": "stdin",
     "output_type": "stream",
     "text": [
      "Enter the number of books purchsed this month : 6\n"
     ]
    },
    {
     "name": "stdout",
     "output_type": "stream",
     "text": [
      "number of points awarded : 30\n"
     ]
    }
   ],
   "source": [
    "num_of_books = int(input('Enter the number of books purchsed this month :' ))\n",
    "if num_of_books == 0 :\n",
    "    print('number of points awarded :', 0 )\n",
    "elif num_of_books == 2 :\n",
    "    print('number of points awarded :', 5 )\n",
    "elif num_of_books == 4 :\n",
    "    print('number of points awarded :', 15 )\n",
    "elif num_of_books == 6 :\n",
    "    print('number of points awarded :', 30 )\n",
    "elif num_of_books >= 8 :\n",
    "    print('Number of points awarded :', 60 )\n",
    "else :\n",
    "    print('Not a valid input   ')"
   ]
  }
 ],
 "metadata": {
  "kernelspec": {
   "display_name": "Python 3 (ipykernel)",
   "language": "python",
   "name": "python3"
  },
  "language_info": {
   "codemirror_mode": {
    "name": "ipython",
    "version": 3
   },
   "file_extension": ".py",
   "mimetype": "text/x-python",
   "name": "python",
   "nbconvert_exporter": "python",
   "pygments_lexer": "ipython3",
   "version": "3.11.7"
  }
 },
 "nbformat": 4,
 "nbformat_minor": 5
}
