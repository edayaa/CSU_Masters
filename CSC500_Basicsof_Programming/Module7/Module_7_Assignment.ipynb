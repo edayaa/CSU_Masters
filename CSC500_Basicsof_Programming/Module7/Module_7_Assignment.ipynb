{
 "cells": [
  {
   "cell_type": "code",
   "execution_count": 12,
   "id": "e886a800-3ecf-40ae-83c6-018362b7d427",
   "metadata": {},
   "outputs": [],
   "source": [
    "#Dictionary containing course numbers and \n",
    "#the room numbers of the rooms where the courses meet. "
   ]
  },
  {
   "cell_type": "code",
   "execution_count": 13,
   "id": "fee17b9c-504b-485a-bc86-7c5fe011a76e",
   "metadata": {},
   "outputs": [],
   "source": [
    "Course_Room_numbers = {'CSC101' : '3004',\n",
    "'CSC102' : '4501',\n",
    "'CSC103' : '6755',\n",
    "'NET110' : '1244',\n",
    "'COM241' : '1411'}"
   ]
  },
  {
   "cell_type": "code",
   "execution_count": null,
   "id": "4110ac44-b436-47c9-85cf-2be120bf2fd5",
   "metadata": {},
   "outputs": [],
   "source": [
    "# dictionary containing course numbers \n",
    "# and the names of the instructors that teach each course"
   ]
  },
  {
   "cell_type": "code",
   "execution_count": 17,
   "id": "2b901b0a-9d00-4c4b-ac3d-ce7d6168349b",
   "metadata": {},
   "outputs": [],
   "source": [
    "Course_Instructors = {'CSC101' : 'Haynes',\n",
    "'CSC102' : 'Alvarado',\n",
    "'CSC103' : 'Rich',\n",
    "'NET110' : 'Burke',\n",
    "'COM241' : 'Lee' }"
   ]
  },
  {
   "cell_type": "code",
   "execution_count": null,
   "id": "b368836c-ed6c-44fa-ab46-5ad9b9a9fdaf",
   "metadata": {},
   "outputs": [],
   "source": [
    "# dictionary containing course numbers \n",
    "# and the meeting times of each course."
   ]
  },
  {
   "cell_type": "code",
   "execution_count": 18,
   "id": "14f6874d-446c-4b0c-996a-5c87f80956d8",
   "metadata": {},
   "outputs": [],
   "source": [
    "Course_Meeting_time = {'CSC101': '8:00 a.m.',\n",
    "'CSC102' : '9:00 a.m.',\n",
    "'CSC103' : '10:00 a.m.',\n",
    "'NET110' : '11:00 a.m.',\n",
    "'COM241' : '1:00 p.m.' }"
   ]
  },
  {
   "cell_type": "code",
   "execution_count": 33,
   "id": "2eef005a-64f2-419e-8c9b-059c6c2f6ce1",
   "metadata": {},
   "outputs": [],
   "source": [
    "## Request User to input the course number \n",
    "## Check if the course number key is found in the one of the Dictionaries.\n",
    "## If found , display the values from Dictionaries \n",
    "## Course_Room_numbers , Course_Instructors and Course_Meeting_time"
   ]
  },
  {
   "cell_type": "code",
   "execution_count": 36,
   "id": "9e1f6db1-f16a-444e-8cb2-133ca87fb290",
   "metadata": {},
   "outputs": [
    {
     "name": "stdin",
     "output_type": "stream",
     "text": [
      "Enter your course number   : csc101\n"
     ]
    },
    {
     "name": "stdout",
     "output_type": "stream",
     "text": [
      "Course room number : 3004  instructor : Haynes  and meeting time :8:00 a.m.\n"
     ]
    }
   ],
   "source": [
    "course_number=input('Enter your course number   :').upper()\n",
    "if course_number in Course_Room_numbers: \n",
    "    #print ('course room number : {}  instructor : {}  and meeting time :{}'.format( Course_Room_numbers[course_number], Course_Instructors[course_number],Course_Meeting_time[course_number'))\n",
    "    print ('Course room number : {}  instructor : {}  and meeting time :{}'.\n",
    "           format( Course_Room_numbers[course_number], Course_Instructors[course_number],Course_Meeting_time[course_number]))\n",
    "else :\n",
    "    print('Entered Course number is not in the Dictionary')"
   ]
  }
 ],
 "metadata": {
  "kernelspec": {
   "display_name": "Python 3 (ipykernel)",
   "language": "python",
   "name": "python3"
  },
  "language_info": {
   "codemirror_mode": {
    "name": "ipython",
    "version": 3
   },
   "file_extension": ".py",
   "mimetype": "text/x-python",
   "name": "python",
   "nbconvert_exporter": "python",
   "pygments_lexer": "ipython3",
   "version": "3.11.7"
  }
 },
 "nbformat": 4,
 "nbformat_minor": 5
}
