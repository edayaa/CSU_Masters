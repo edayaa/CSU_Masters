{
 "cells": [
  {
   "cell_type": "code",
   "execution_count": 8,
   "id": "4805f202-a457-4f5b-a301-6b096b50378d",
   "metadata": {},
   "outputs": [],
   "source": [
    "#### Step 1 Build the ItemToPurchase class with the required elements\n",
    "##  item_name (string)\n",
    "##  item_price (float)\n",
    "##  item_quantity (int)\n",
    "\n",
    "class ItemToPurchase :\n",
    "    item_name = \"\"\n",
    "    item_price = 0.0\n",
    "    item_quantity  = 0\n",
    "    total_price = 0 \n",
    "    # Default constructor function    \n",
    "    # Initializes item's name = \"none\", item's price = 0, item's quantity = 0\n",
    "    def __init__(self, item_name = \"none\",item_price = 0.0,item_quantity  = 0):\n",
    "        self.item_name = item_name\n",
    "        self.item_price = item_price\n",
    "        self.item_quantity = item_quantity\n",
    "        self.total_price = self.item_price * self.item_quantity\n",
    "    ## print_item_cost() Method`\n",
    "    def print_item_cost(self) :\n",
    "        print('{} {} @ ${} = ${:.2f}'.format(self.item_name,self.item_quantity,self.item_price,self.total_price))\n",
    "\t\t"
   ]
  },
  {
   "cell_type": "code",
   "execution_count": 5,
   "id": "3d63c482-ce27-456a-94ce-684aae9e1410",
   "metadata": {},
   "outputs": [
    {
     "name": "stdout",
     "output_type": "stream",
     "text": [
      "   Item 1 \n"
     ]
    },
    {
     "name": "stdin",
     "output_type": "stream",
     "text": [
      "Enter the item name: Chocolate Chips\n",
      "Enter the item price: 3\n",
      "Enter the item quantity: 1\n"
     ]
    },
    {
     "name": "stdout",
     "output_type": "stream",
     "text": [
      "   Item 2 \n"
     ]
    },
    {
     "name": "stdin",
     "output_type": "stream",
     "text": [
      "Enter the item name: Bottled Water\n",
      "Enter the item price: 1\n",
      "Enter the item quantity: 10\n"
     ]
    }
   ],
   "source": [
    "####  Step 2 prompt the user for two items and create two objects of the ItemToPurchase class\n",
    "\n",
    "total_price = 0.0\n",
    "print('   Item 1 ') \n",
    "item_name = input('Enter the item name:') \n",
    "item_price = float(input('Enter the item price:'))\n",
    "item_quantity = int(input('Enter the item quantity:'))\n",
    "p1 = ItemToPurchase(item_name,item_price,item_quantity)\n",
    "total_price += p1.total_price\n",
    "print('   Item 2 ') \n",
    "item_name = input('Enter the item name:') \n",
    "item_price = float(input('Enter the item price:'))\n",
    "item_quantity = int(input('Enter the item quantity:'))\n",
    "p2 = ItemToPurchase(item_name,item_price,item_quantity)\n",
    "total_price += p2.total_price"
   ]
  },
  {
   "cell_type": "code",
   "execution_count": 7,
   "id": "4c2cda48-459b-438d-9193-558523391bae",
   "metadata": {},
   "outputs": [
    {
     "name": "stdout",
     "output_type": "stream",
     "text": [
      "       TOTAL COST \n",
      "Chocolate Chips 1 @ $3.0 = $3.00\n",
      "Bottled Water 10 @ $1.0 = $10.00\n",
      "      Total: $13.000000\n"
     ]
    }
   ],
   "source": [
    "####  Step 3  Add the costs of the two items together and output the total cost.\n",
    "print('       TOTAL COST ' )\n",
    "p1.print_item_cost()\n",
    "p2.print_item_cost()\n",
    "print('      Total: ${:2f}'.format(total_price))"
   ]
  }
 ],
 "metadata": {
  "kernelspec": {
   "display_name": "Python 3 (ipykernel)",
   "language": "python",
   "name": "python3"
  },
  "language_info": {
   "codemirror_mode": {
    "name": "ipython",
    "version": 3
   },
   "file_extension": ".py",
   "mimetype": "text/x-python",
   "name": "python",
   "nbconvert_exporter": "python",
   "pygments_lexer": "ipython3",
   "version": "3.11.7"
  }
 },
 "nbformat": 4,
 "nbformat_minor": 5
}
