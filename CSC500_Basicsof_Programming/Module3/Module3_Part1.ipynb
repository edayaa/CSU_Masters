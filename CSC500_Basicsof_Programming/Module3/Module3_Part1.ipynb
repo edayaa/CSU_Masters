{
 "cells": [
  {
   "cell_type": "code",
   "execution_count": null,
   "id": "fbf89c2d-6e47-4f09-9ab2-19df842d773c",
   "metadata": {},
   "outputs": [],
   "source": [
    "## Write a program that calculates the total amount of a meal purchased at a restaurant. \n",
    "## The program should ask the user to enter the charge for the food and then \n",
    "## calculate the amounts with an 18 percent tip and 7 percent sales tax. \n",
    "## Display each of these amounts and the total price."
   ]
  },
  {
   "cell_type": "code",
   "execution_count": 21,
   "id": "d2e9efa0-4e17-42b4-8e65-ff1c18936839",
   "metadata": {},
   "outputs": [
    {
     "name": "stdin",
     "output_type": "stream",
     "text": [
      "Enter the Charge for food Item purchased :  250\n"
     ]
    },
    {
     "name": "stdout",
     "output_type": "stream",
     "text": [
      "**********************************\n",
      "******** Food Receipt ************\n",
      "**********************************\n",
      "               2024-06-24 05:33:36\n",
      "  Food       : $     250.0\n",
      "  Tips       : $      45.0\n",
      "  Sales Tax  : $      17.5\n",
      "**********************************\n",
      "  Total      : $     312.5\n",
      "**********************************\n"
     ]
    }
   ],
   "source": [
    "from datetime import datetime\n",
    "## Below code is to get current date and time and \n",
    "## formatting as required for display\n",
    "cur_date = datetime.now().strftime('%Y-%m-%d %H:%M:%S')\n",
    "## Requesting User to enter charge for the food.\n",
    "Food_charge = float(input('Enter the Charge for food Item purchased : '))\n",
    "## Calculating Tip amount and Sales Tax as per the requirement.\n",
    "Tip_amount  = Food_charge * 0.18 \n",
    "Sales_tax = Food_charge * 0.07 \n",
    "## Calculating Total amount of all ( charges + tip + sales tax )\n",
    "Total_amount = Food_charge + Tip_amount +  Sales_tax\n",
    "## formatting of amount fields to display with \n",
    "## correct alignment\n",
    "Dis_food_charge = str(Food_charge).rjust(10,' ')\n",
    "Dis_tip_Amount  = str(Tip_amount).rjust(10,' ')\n",
    "Dis_sales_tax   = str(Sales_tax).rjust(10,' ')\n",
    "Dis_total_amount = str(Total_amount).rjust(10,' ')\n",
    "## Printing all amounts in the formatted manner\n",
    "print(\"**********************************\")\n",
    "print(\"******** Food Receipt ************\") \n",
    "print(\"**********************************\",end='\\n')\n",
    "print(\"              \",cur_date)\n",
    "print(\"  Food       : ${}\".format(Dis_food_charge))\n",
    "print(\"  Tips       : ${}\".format(Dis_tip_Amount))\n",
    "print(\"  Sales Tax  : ${}\".format(Dis_sales_tax))\n",
    "print(\"**********************************\",end='\\n')\n",
    "print(\"  Total      : ${}\".format(Dis_total_amount))  \n",
    "print(\"**********************************\",end='\\n')"
   ]
  }
 ],
 "metadata": {
  "kernelspec": {
   "display_name": "Python 3 (ipykernel)",
   "language": "python",
   "name": "python3"
  },
  "language_info": {
   "codemirror_mode": {
    "name": "ipython",
    "version": 3
   },
   "file_extension": ".py",
   "mimetype": "text/x-python",
   "name": "python",
   "nbconvert_exporter": "python",
   "pygments_lexer": "ipython3",
   "version": "3.11.7"
  }
 },
 "nbformat": 4,
 "nbformat_minor": 5
}
