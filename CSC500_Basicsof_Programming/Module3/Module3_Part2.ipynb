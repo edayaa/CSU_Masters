{
 "cells": [
  {
   "cell_type": "code",
   "execution_count": null,
   "id": "2b363ea7-980c-43bf-b8da-b644518e48e1",
   "metadata": {},
   "outputs": [],
   "source": [
    "## Many people keep time using a 24-hour clock (11 is 11am and 23 is 11pm, 0 is midnight). \n",
    "## If it is currently 13 and you set your alarm to go off in 50 hours, it will be 15 (3pm).\n",
    "## Write a Python program to solve the general version of the above problem.\n",
    "## Ask the user for the time now (in hours) and then ask for the number of hours to wait for the alarm. \n",
    "## Your program should output what the time will be on a 24-hour clock when the alarm goes off."
   ]
  },
  {
   "cell_type": "code",
   "execution_count": 17,
   "id": "a0f47c6d-851e-45a5-a670-282a54cc7870",
   "metadata": {},
   "outputs": [
    {
     "name": "stdin",
     "output_type": "stream",
     "text": [
      " Enter the Time now in Hours           :  15\n",
      " Number of hours to wait for the alarm :  25\n"
     ]
    },
    {
     "name": "stdout",
     "output_type": "stream",
     "text": [
      " Alarm Goes off at  :  4 pm\n"
     ]
    }
   ],
   "source": [
    "## Requesting User to enter the time now in Hours\n",
    "Time_now        = int(input(\" Enter the Time now in Hours           : \"))\n",
    "## Requesting User to Number of Hours to wait for the alarm\n",
    "Hours_for_alarm = int(input(\" Number of hours to wait for the alarm : \"))\n",
    "## Finding MOD of total time will give remaining hours\n",
    "alarm_goes_off  =  ( Time_now + Hours_for_alarm ) % 24\n",
    "## Below condition is to check if the alarm off fall exactly on 12 pm\n",
    "if alarm_goes_off == 12 :\n",
    "     print( \" Alarm Goes off at  : \" ,  alarm_goes_off , \"pm\" )\n",
    "## Below condition is to handle the alarm off time on pm\n",
    "elif alarm_goes_off > 12 :\n",
    "     print( \" Alarm Goes off at  : \" ,  alarm_goes_off%12 , \"pm\" )\n",
    "## Below condition is to check if the time on am\n",
    "else:\n",
    "     print( \" Alarm Goes off at  : \" ,  alarm_goes_off , \"am\" )"
   ]
  },
  {
   "cell_type": "code",
   "execution_count": 18,
   "id": "7993cbfd-a434-498d-9cb7-87e2bffa73d3",
   "metadata": {},
   "outputs": [
    {
     "data": {
      "text/plain": [
       "'C:\\\\Users\\\\shamn'"
      ]
     },
     "execution_count": 18,
     "metadata": {},
     "output_type": "execute_result"
    }
   ],
   "source": [
    "pwd"
   ]
  }
 ],
 "metadata": {
  "kernelspec": {
   "display_name": "Python 3 (ipykernel)",
   "language": "python",
   "name": "python3"
  },
  "language_info": {
   "codemirror_mode": {
    "name": "ipython",
    "version": 3
   },
   "file_extension": ".py",
   "mimetype": "text/x-python",
   "name": "python",
   "nbconvert_exporter": "python",
   "pygments_lexer": "ipython3",
   "version": "3.11.7"
  }
 },
 "nbformat": 4,
 "nbformat_minor": 5
}
