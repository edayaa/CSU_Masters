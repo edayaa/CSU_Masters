{
 "cells": [
  {
   "cell_type": "code",
   "execution_count": 15,
   "id": "fe7e6da1-ae91-4559-8484-2447db926b18",
   "metadata": {},
   "outputs": [
    {
     "name": "stdin",
     "output_type": "stream",
     "text": [
      "Enter the First number in numeric  : 200\n",
      "Enter the Second number in numeric : 100\n"
     ]
    },
    {
     "name": "stdout",
     "output_type": "stream",
     "text": [
      " Addition    Value of Num1 & Num2             :   300\n",
      " Subtraction Value of Num1 & Num2             :   100\n"
     ]
    }
   ],
   "source": [
    "### Part 1:\n",
    "### Write a Python program to find the addition and subtraction of two numbers.\n",
    "### Ask the user to input two numbers (num1 and num2). Given those two numbers, add them together to find the output. Also, subtract the two numbers to find the output.\n",
    "\n",
    "num1 = int(input('Enter the First number in numeric  :'))\n",
    "num2 = int(input('Enter the Second number in numeric :'))\n",
    "print(' Addition    Value of Num1 & Num2             :  ',num1+num2)\n",
    "print(' Subtraction Value of Num1 & Num2             :  ',num1-num2)"
   ]
  },
  {
   "cell_type": "code",
   "execution_count": 17,
   "id": "17794488-6316-4eaa-b932-70eed73f1dc3",
   "metadata": {},
   "outputs": [
    {
     "name": "stdin",
     "output_type": "stream",
     "text": [
      "Enter the First number in numeric  : 100\n",
      "Enter the Second number in numeric : 10\n"
     ]
    },
    {
     "name": "stdout",
     "output_type": "stream",
     "text": [
      " Multiplication of Num1 & Num2       :   1000\n",
      " Division of Num1 & Num2             :   10.0\n"
     ]
    }
   ],
   "source": [
    "#### Part 2:\n",
    "#### Write a Python program to find the multiplication and division of two numbers.\n",
    "#### Ask the user to input two numbers (num1 and num2). Given those two numbers, multiply them together to find the output. Also, divide num1/num2 to find the output.\n",
    "num1 = int(input('Enter the First number in numeric  :'))\n",
    "num2 = int(input('Enter the Second number in numeric :'))\n",
    "print(' Multiplication of Num1 & Num2       :  ',num1*num2)\n",
    "print(' Division of Num1 & Num2             :  ',num1/num2)"
   ]
  },
  {
   "cell_type": "code",
   "execution_count": null,
   "id": "677f81fe-d7f7-4175-b2d2-4a29bfb8f8ec",
   "metadata": {},
   "outputs": [],
   "source": []
  }
 ],
 "metadata": {
  "kernelspec": {
   "display_name": "Python 3 (ipykernel)",
   "language": "python",
   "name": "python3"
  },
  "language_info": {
   "codemirror_mode": {
    "name": "ipython",
    "version": 3
   },
   "file_extension": ".py",
   "mimetype": "text/x-python",
   "name": "python",
   "nbconvert_exporter": "python",
   "pygments_lexer": "ipython3",
   "version": "3.11.7"
  }
 },
 "nbformat": 4,
 "nbformat_minor": 5
}
